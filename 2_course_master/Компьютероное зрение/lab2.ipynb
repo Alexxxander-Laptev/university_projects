{
 "cells": [
  {
   "cell_type": "code",
   "execution_count": 25,
   "metadata": {},
   "outputs": [
    {
     "name": "stdout",
     "output_type": "stream",
     "text": [
      "[206 118  42]\n",
      "[255 255 255]\n"
     ]
    }
   ],
   "source": [
    "import cv2\n",
    "\n",
    "\n",
    "pic = 'test_picture.jpg'\n",
    "image = cv2.imread(pic)\n",
    "# Получаем значение конкретного пикселя на изображении\n",
    "px = image[100, 100]\n",
    "print(px)\n",
    "\n",
    "# Изменим значение конкретного пикселя\n",
    "image[100, 100] = [255, 255, 255]\n",
    "print(image[100, 100])"
   ]
  },
  {
   "cell_type": "code",
   "execution_count": 26,
   "metadata": {},
   "outputs": [
    {
     "data": {
      "text/plain": [
       "28"
      ]
     },
     "execution_count": 26,
     "metadata": {},
     "output_type": "execute_result"
    }
   ],
   "source": [
    "# Получаем доступ к красному каналу для конкретного пикселя на изображении\n",
    "image.item(10, 10, 2)"
   ]
  },
  {
   "cell_type": "code",
   "execution_count": 27,
   "metadata": {},
   "outputs": [
    {
     "data": {
      "text/plain": [
       "100"
      ]
     },
     "execution_count": 27,
     "metadata": {},
     "output_type": "execute_result"
    }
   ],
   "source": [
    "# Изменяем значение для красного канала\n",
    "image.itemset((10, 10, 2), 100)\n",
    "image.item(10, 10, 2)"
   ]
  },
  {
   "cell_type": "code",
   "execution_count": 28,
   "metadata": {},
   "outputs": [
    {
     "name": "stdout",
     "output_type": "stream",
     "text": [
      "(2160, 3840, 3)\n",
      "24883200\n",
      "uint8\n"
     ]
    }
   ],
   "source": [
    "# Получаем размер изображения\n",
    "print(image.shape)\n",
    "\n",
    "# Общее количество пикселей на изображении\n",
    "print(image.size)\n",
    "\n",
    "# Тип данных изображения\n",
    "print(image.dtype)"
   ]
  },
  {
   "cell_type": "code",
   "execution_count": 29,
   "metadata": {},
   "outputs": [],
   "source": [
    "# Выбор и копирование региона изображения\n",
    "img = image[280:340, 330:390]\n",
    "image[273:333, 100:160] = img\n",
    "\n",
    "cv2.imshow('image', image)\n",
    "cv2.waitKey(0)\n",
    "cv2.destroyAllWindows()"
   ]
  },
  {
   "cell_type": "code",
   "execution_count": 30,
   "metadata": {},
   "outputs": [],
   "source": [
    "# Разделение на каналы\n",
    "b, g, r = cv2.split(image)\n",
    "# Изменение порядка каналов для другого пространства\n",
    "image2 = cv2.merge((r, g, b))\n",
    "\n",
    "cv2.imshow('image', image)\n",
    "cv2.imshow('image2', image2)\n",
    "\n",
    "# Другой вариант разделения и вывода изображения в зеленых тонах\n",
    "image2[:,:,2] = 0\n",
    "image2[:,:,0] = 0\n",
    "\n",
    "bb = image2[:, :, 0]\n",
    "gg = image2[:, :, 1]\n",
    "rr = image2[:, :, 2]\n",
    "\n",
    "image3 = cv2.merge((rr, gg, bb))\n",
    "\n",
    "cv2.imshow('image3', image3)\n",
    "cv2.waitKey(0)\n",
    "cv2.destroyAllWindows()"
   ]
  },
  {
   "cell_type": "code",
   "execution_count": 31,
   "metadata": {},
   "outputs": [
    {
     "name": "stdout",
     "output_type": "stream",
     "text": [
      "[[260.]\n",
      " [  0.]\n",
      " [  0.]\n",
      " [  0.]]\n",
      "[4]\n"
     ]
    }
   ],
   "source": [
    "import numpy as np\n",
    "\n",
    "\n",
    "# Сложение двух изображений с использованием opencv и numpy\n",
    "x, y = np.uint8([250]), np.uint8([10])\n",
    "print(cv2.add(x, y))\n",
    "print(x + y)\n",
    "\n",
    "# Пример на реальных изображениях\n",
    "image4 = cv2.add(image, image, image)\n",
    "cv2.imshow('image4', image4)\n",
    "cv2.waitKey(0)\n",
    "cv2.destroyAllWindows()"
   ]
  },
  {
   "cell_type": "code",
   "execution_count": 36,
   "metadata": {},
   "outputs": [],
   "source": [
    "image = cv2.imread(pic)\n",
    "logo = cv2.imread(\"logo.png\",1)\n",
    "\n",
    "# Создаем ROI\n",
    "rows, cols, channels = logo.shape\n",
    "roi = image[0:rows, 0:cols]\n",
    "\n",
    "# Создаем маску логотипа и его инверсную маску\n",
    "img2gray = cv2.cvtColor(logo, cv2.COLOR_BGR2GRAY)\n",
    "ret, mask = cv2.threshold(img2gray, 10, 255, cv2.THRESH_BINARY)\n",
    "\n",
    "mask_inv = cv2.bitwise_not(mask)\n",
    "\n",
    "# Затемняем область логотипа в ROI\n",
    "img1_bg = cv2.bitwise_and(roi,roi,mask = mask_inv)\n",
    "\n",
    "# Берем только область логотипа из изображения логотипа.\n",
    "img2_fg = cv2.bitwise_and(logo,logo,mask = mask)\n",
    "\n",
    "# Помещаем логотип в ROI и изменяем основное изображение\n",
    "dst = cv2.add(img1_bg,img2_fg)\n",
    "image[0:rows, 0:cols] = dst\n",
    "\n",
    "cv2.imshow('result', image)\n",
    "cv2.imshow('inv', mask_inv)\n",
    "cv2.imshow('bg', img1_bg)\n",
    "cv2.imshow('fg', img2_fg)\n",
    "cv2.imshow('dst', dst)\n",
    "cv2.waitKey(0)\n",
    "cv2.destroyAllWindows()"
   ]
  },
  {
   "cell_type": "code",
   "execution_count": 41,
   "metadata": {},
   "outputs": [],
   "source": [
    "img1 = cv2.imread(pic)\n",
    "logo.resize(2160, 3840, 3)\n",
    "# Смешивание изображений с эффектом прозрачности\n",
    "dst = cv2.addWeighted(img1, 0.7, logo, 0.3, 0)\n",
    "\n",
    "cv2.imshow('dst', dst)\n",
    "cv2.waitKey(0)\n",
    "cv2.destroyAllWindows()"
   ]
  }
 ],
 "metadata": {
  "kernelspec": {
   "display_name": "Python 3",
   "language": "python",
   "name": "python3"
  },
  "language_info": {
   "codemirror_mode": {
    "name": "ipython",
    "version": 3
   },
   "file_extension": ".py",
   "mimetype": "text/x-python",
   "name": "python",
   "nbconvert_exporter": "python",
   "pygments_lexer": "ipython3",
   "version": "3.9.13"
  }
 },
 "nbformat": 4,
 "nbformat_minor": 2
}
