{
 "cells": [
  {
   "cell_type": "markdown",
   "metadata": {},
   "source": [
    "# <p align='center'>Лабораторная работа №9</p>\n",
    "## <p align='center'>Обнаружение лиц</p>\n",
    "\n",
    "<p align='right'>Выполнил: студент гр. 5.306М Лаптев А.В.</p>"
   ]
  },
  {
   "cell_type": "markdown",
   "metadata": {},
   "source": [
    "# Каскадный классификатор Хаара\n",
    "Для использования каскадного классфикатора используется класс CascdeClassifier, в объект которого с помощью метода load() загружается предобученный каскадный классификатор. Единственным аргументом данного метода является filename - имя файла, который нужно загрузить (в строковом формате).\n",
    "\n",
    "Непосредственно обнаружение выполняется с использованием метода detectMultiScale(), который возвращает граничные прямоугольники для обнаруженных лиц или глаз. Метод detectMulriScale() может принимать следующие аргументы:\n",
    "* image: объект изображения;\n",
    "* scaleFactor: определяет насколько уменьшается размер изображения при каждом изменении масштаба;\n",
    "* minNeighbords: указывает сколько соседей должно быть у каждого прямоугольника-кандидата, чтобы он сохранился;\n",
    "* flags: для нового объекта класса не используется;\n",
    "* minSize: минимальный возможный размер объекта;\n",
    "* maxSize: максимальный допустимый размер объекта.\n",
    "\n",
    "В данном примере используется только первый аргумент, все остальные имеют значение по умолчанию.\n",
    "\n",
    "Также, в коде, в качестве предобработки изображения используется метод equalizeHist(), который позволяет выровнять и увеличить контрастность изображений. У данного метода есть 2 аргумента:\n",
    "* src: исходное изображение в оттенках серого;\n",
    "* dst: выровненное изображение."
   ]
  },
  {
   "cell_type": "code",
   "execution_count": 1,
   "metadata": {},
   "outputs": [],
   "source": [
    "from __future__ import print_function\n",
    "import cv2 as cv\n",
    "\n",
    "\n",
    "def detectAndDisplay(frame):\n",
    "    frame_gray = cv.cvtColor(frame, cv.COLOR_BGR2GRAY)\n",
    "    frame_gray = cv.equalizeHist(frame_gray)\n",
    "    #-- Detect faces\n",
    "    faces = face_cascade.detectMultiScale(frame_gray)\n",
    "    for (x,y,w,h) in faces:\n",
    "        center = (x + w//2, y + h//2)\n",
    "        frame = cv.ellipse(frame, center, (w//2, h//2), 0, 0, 360, (255, 0, 255), 4)\n",
    "        faceROI = frame_gray[y:y+h,x:x+w]\n",
    "        #-- In each face, detect eyes\n",
    "        eyes = eyes_cascade.detectMultiScale(faceROI)\n",
    "        for (x2,y2,w2,h2) in eyes:\n",
    "            eye_center = (x + x2 + w2//2, y + y2 + h2//2)\n",
    "            radius = int(round((w2 + h2)*0.25))\n",
    "            frame = cv.circle(frame, eye_center, radius, (255, 0, 0 ), 4)\n",
    "    cv.imshow('Capture - Face detection', frame)\n",
    "\n",
    "\n",
    "face_cascade_name = '../resources/haarcascade_frontalface_alt.xml'\n",
    "eyes_cascade_name = '../resources/haarcascade_eye_tree_eyeglasses.xml'\n",
    "\n",
    "face_cascade = cv.CascadeClassifier()\n",
    "eyes_cascade = cv.CascadeClassifier()\n",
    "\n",
    "#-- 1. Load the cascades\n",
    "if not face_cascade.load(cv.samples.findFile(face_cascade_name)):\n",
    "    print('--(!)Error loading face cascade')\n",
    "    exit(0)\n",
    "\n",
    "if not eyes_cascade.load(cv.samples.findFile(eyes_cascade_name)):\n",
    "    print('--(!)Error loading eyes cascade')\n",
    "    exit(0)\n",
    "camera_device = 0\n",
    "\n",
    "#-- 2. Read the video stream\n",
    "cap = cv.VideoCapture(camera_device)\n",
    "\n",
    "if not cap.isOpened:\n",
    "    print('--(!)Error opening video capture')\n",
    "    exit(0)\n",
    "\n",
    "while True:\n",
    "    ret, frame = cap.read()\n",
    "\n",
    "    if frame is None:\n",
    "        print('--(!) No captured frame -- Break!')\n",
    "        break\n",
    "\n",
    "    detectAndDisplay(frame)\n",
    "\n",
    "    if cv.waitKey(10) == 27:\n",
    "        break\n",
    "\n",
    "cv.destroyAllWindows()"
   ]
  },
  {
   "cell_type": "markdown",
   "metadata": {},
   "source": [
    "В доработанном ниже примере не представлено никаких новых мкетодов для работы с изображениями. Здесь вокруг распознанного лица рисуется прямоугольник."
   ]
  },
  {
   "cell_type": "code",
   "execution_count": 2,
   "metadata": {},
   "outputs": [],
   "source": [
    "# Load Cascade filter \n",
    "face_cascade = cv.CascadeClassifier('../resources/haarcascade_frontalface_default.xml')\n",
    "\n",
    "# Create the face detecting function \n",
    "def detect_face(img):\n",
    "    img_2 = img.copy()\n",
    "    face_rects = face_cascade.detectMultiScale(\n",
    "        img.copy(), \n",
    "        scaleFactor=1.1,\n",
    "        minNeighbors=4\n",
    "    )\n",
    "    \n",
    "    for (x, y, w, h) in face_rects:\n",
    "        cv.rectangle(\n",
    "            img_2,\n",
    "            (x, y),\n",
    "            (x + w, y + h),\n",
    "            (255, 255, 255),\n",
    "            3\n",
    "        )\n",
    "        \n",
    "    return img_2# Detect the face\n",
    "\n",
    "# Load the image file and convert the color mode\n",
    "avengers = cv.imread('../resources/avengers.jpg')\n",
    "avengers = cv.cvtColor(avengers, cv.COLOR_BGR2GRAY)# Detect the face and plot the result\n",
    "detected_avengers = detect_face(avengers)\n",
    "\n",
    "cv.imshow('image',detected_avengers)\n",
    "cv.waitKey(0)\n",
    "cv.destroyAllWindows()"
   ]
  }
 ],
 "metadata": {
  "kernelspec": {
   "display_name": "Python 3",
   "language": "python",
   "name": "python3"
  },
  "language_info": {
   "codemirror_mode": {
    "name": "ipython",
    "version": 3
   },
   "file_extension": ".py",
   "mimetype": "text/x-python",
   "name": "python",
   "nbconvert_exporter": "python",
   "pygments_lexer": "ipython3",
   "version": "3.9.13"
  }
 },
 "nbformat": 4,
 "nbformat_minor": 2
}
