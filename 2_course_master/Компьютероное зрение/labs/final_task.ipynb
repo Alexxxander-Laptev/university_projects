{
 "cells": [
  {
   "cell_type": "markdown",
   "metadata": {},
   "source": [
    "# Финальное задание\n",
    "Разбейте выбранное изображение на 24 равные части, переместите их местами в произвольном порядке и сформируйте новое «хаотичное» изображение, выведите оба изображения на экран."
   ]
  },
  {
   "cell_type": "code",
   "execution_count": 6,
   "metadata": {},
   "outputs": [],
   "source": [
    "import cv2\n",
    "from random import shuffle\n",
    "\n",
    "\n",
    "# Открываем изображение\n",
    "picture_name = '../resources/test_picture.jpg'\n",
    "image = cv2.imread(picture_name)\n",
    "cv2.imshow('image', image)\n",
    "# Сохраняем изображение в буфер\n",
    "dst = image\n",
    "\n",
    "# Получаем размеры изображения и получаем ширину каждого кусочка\n",
    "height, width, _ = image.shape\n",
    "slice_width = int(width / 24)\n",
    "\n",
    "# Список кусочков\n",
    "slices = []\n",
    "for i in range(0, width, slice_width):\n",
    "    slices.append((i, i + slice_width))\n",
    "\n",
    "# Сохраняем исходную последовательность в буфер\n",
    "old_slices = set(slices)\n",
    "# Перемешиваем список кусочков\n",
    "shuffle(slices)\n",
    "old_slices = list(old_slices)\n",
    "\n",
    "# Проходим по индексам кусочков и заменяем содержимое индекса оригинального\n",
    "# изображения на содержимое перемешанного кусочка\n",
    "for i in range(len(slices)):\n",
    "    dst[0:height, old_slices[i][0]:old_slices[i][1]] = image[0:height, slices[i][0]:slices[i][1]]\n",
    "\n",
    "cv2.imshow('dst', dst)\n",
    "cv2.waitKey(0)\n",
    "cv2.destroyAllWindows()"
   ]
  }
 ],
 "metadata": {
  "kernelspec": {
   "display_name": "Python 3",
   "language": "python",
   "name": "python3"
  },
  "language_info": {
   "codemirror_mode": {
    "name": "ipython",
    "version": 3
   },
   "file_extension": ".py",
   "mimetype": "text/x-python",
   "name": "python",
   "nbconvert_exporter": "python",
   "pygments_lexer": "ipython3",
   "version": "3.9.13"
  }
 },
 "nbformat": 4,
 "nbformat_minor": 2
}
