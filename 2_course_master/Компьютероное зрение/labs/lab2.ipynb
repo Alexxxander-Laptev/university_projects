{
 "cells": [
  {
   "cell_type": "markdown",
   "metadata": {},
   "source": [
    "# <p align='center'>Лабораторная работа №2</p>\n",
    "## <p align='center'>Базовые операции с изображениями</p>\n",
    "\n",
    "<p align='right'>Выполнил: студент гр. 5.306М Лаптев А.В.</p>\n"
   ]
  },
  {
   "cell_type": "markdown",
   "metadata": {},
   "source": [
    "# Основные операции с изображениями\n",
    "## Pixel-значение\n",
    "Для работы с частью изображения можно получать доступ к конкретным пикселям на изображении и изменять их. Пример подобной работы с изображением можно увидеть ниже:"
   ]
  },
  {
   "cell_type": "code",
   "execution_count": 1,
   "metadata": {},
   "outputs": [
    {
     "name": "stdout",
     "output_type": "stream",
     "text": [
      "[206 118  42]\n",
      "[255 255 255]\n"
     ]
    }
   ],
   "source": [
    "import cv2\n",
    "\n",
    "\n",
    "pic = '../resources/test_picture.jpg'\n",
    "image = cv2.imread(pic)\n",
    "# Получаем значение конкретного пикселя на изображении\n",
    "px = image[100, 100]\n",
    "print(px)\n",
    "\n",
    "# Изменим значение конкретного пикселя\n",
    "image[100, 100] = [255, 255, 255]\n",
    "print(image[100, 100])"
   ]
  },
  {
   "cell_type": "markdown",
   "metadata": {},
   "source": [
    "Здесь представлен код для доступа к конкретному каналу пикселя и его изменение методами библиотеки numpy:"
   ]
  },
  {
   "cell_type": "code",
   "execution_count": 2,
   "metadata": {},
   "outputs": [
    {
     "data": {
      "text/plain": [
       "28"
      ]
     },
     "execution_count": 2,
     "metadata": {},
     "output_type": "execute_result"
    }
   ],
   "source": [
    "# Получаем доступ к красному каналу для конкретного пикселя на изображении\n",
    "image.item(10, 10, 2)"
   ]
  },
  {
   "cell_type": "code",
   "execution_count": 3,
   "metadata": {},
   "outputs": [
    {
     "data": {
      "text/plain": [
       "100"
      ]
     },
     "execution_count": 3,
     "metadata": {},
     "output_type": "execute_result"
    }
   ],
   "source": [
    "# Изменяем значение для красного канала\n",
    "image.itemset((10, 10, 2), 100)\n",
    "image.item(10, 10, 2)"
   ]
  },
  {
   "cell_type": "markdown",
   "metadata": {},
   "source": [
    "# Свойства изображения\n",
    "Для получения свойств изображения, таких как размер, количество пикселей и тип значений можно использовать нижеперечисленные методы:"
   ]
  },
  {
   "cell_type": "code",
   "execution_count": 4,
   "metadata": {},
   "outputs": [
    {
     "name": "stdout",
     "output_type": "stream",
     "text": [
      "(2160, 3840, 3)\n",
      "24883200\n",
      "uint8\n"
     ]
    }
   ],
   "source": [
    "# Получаем размер изображения\n",
    "print(image.shape)\n",
    "\n",
    "# Общее количество пикселей на изображении\n",
    "print(image.size)\n",
    "\n",
    "# Тип данных изображения\n",
    "print(image.dtype)"
   ]
  },
  {
   "cell_type": "markdown",
   "metadata": {},
   "source": [
    "# ROI - Опорные области изображения\n",
    "Для повышения точности и производительности алгоритма также можно использовать часть изображения:"
   ]
  },
  {
   "cell_type": "code",
   "execution_count": 5,
   "metadata": {},
   "outputs": [],
   "source": [
    "# Выбор и копирование региона изображения\n",
    "img = image[280:340, 330:390]\n",
    "image[273:333, 100:160] = img\n",
    "\n",
    "cv2.imshow('image', image)\n",
    "cv2.waitKey(0)\n",
    "cv2.destroyAllWindows()"
   ]
  },
  {
   "cell_type": "markdown",
   "metadata": {},
   "source": [
    "# Разделение на цветовые плоскости\n",
    "На изображении можно получить доступ к отдельным каналам и использовать это для изменения изображения. Несколько вариантов разделения на цветовые пространства показаны ниже:"
   ]
  },
  {
   "cell_type": "code",
   "execution_count": 6,
   "metadata": {},
   "outputs": [],
   "source": [
    "# Разделение на каналы\n",
    "b, g, r = cv2.split(image)\n",
    "# Изменение порядка каналов для другого пространства\n",
    "image2 = cv2.merge((r, g, b))\n",
    "\n",
    "cv2.imshow('image', image)\n",
    "cv2.imshow('image2', image2)\n",
    "\n",
    "# Другой вариант разделения и вывода изображения в зеленых тонах\n",
    "image2[:,:,2] = 0\n",
    "image2[:,:,0] = 0\n",
    "\n",
    "bb = image2[:, :, 0]\n",
    "gg = image2[:, :, 1]\n",
    "rr = image2[:, :, 2]\n",
    "\n",
    "image3 = cv2.merge((rr, gg, bb))\n",
    "\n",
    "cv2.imshow('image3', image3)\n",
    "cv2.waitKey(0)\n",
    "cv2.destroyAllWindows()"
   ]
  },
  {
   "cell_type": "markdown",
   "metadata": {},
   "source": [
    "# Арифметические операции над изображениями\n",
    "## Сложение изображений\n",
    "Для сложения изображений с использованием OpenCV можно использовать метод add(). Аргументы метода:\n",
    "* src1: объект первого изображения для суммирования;\n",
    "* src2: объект второго изображения для суммирования;\n",
    "* dst: целевое выходное изображение;\n",
    "* mask: маска для наложения на изображение;\n",
    "* dtype: тип данных изображения.\n",
    "\n",
    "Сложение с помощью numpy выглядит как стандартная арифметическая операция. Разница в том, что сложение OpenCV выполняется с насыщением, а в numpy - по модулю.\n",
    "\n",
    "Реализация обоих подходов продемонстрирована ниже:"
   ]
  },
  {
   "cell_type": "code",
   "execution_count": 7,
   "metadata": {},
   "outputs": [
    {
     "name": "stdout",
     "output_type": "stream",
     "text": [
      "[[260.]\n",
      " [  0.]\n",
      " [  0.]\n",
      " [  0.]]\n",
      "[4]\n"
     ]
    }
   ],
   "source": [
    "import numpy as np\n",
    "\n",
    "\n",
    "# Сложение двух изображений с использованием opencv и numpy\n",
    "x, y = np.uint8([250]), np.uint8([10])\n",
    "print(cv2.add(x, y))\n",
    "print(x + y)\n",
    "\n",
    "# Пример на реальных изображениях\n",
    "image4 = cv2.add(image, image, image)\n",
    "cv2.imshow('image4', image4)\n",
    "cv2.waitKey(0)\n",
    "cv2.destroyAllWindows()"
   ]
  },
  {
   "cell_type": "markdown",
   "metadata": {},
   "source": [
    "# Битовые операции\n",
    "В примере ниже используются операции NOT и AND, которые в OpenCV представлены методами bitwise_not() и bitwise_and(). Кроме того, для пороговой обработки изображения применяется метод threshold().\n",
    "\n",
    "Для bitwise_not() предусмотрены следующие аргументы:\n",
    "* src: исходное изображение для обработки;\n",
    "* dst: результирующее изображение;\n",
    "* mask: маска, накладываемая на изображение.\n",
    "\n",
    "Для bitwise_and() доступны следующие аргументы:\n",
    "* src1: первое исходное изображение для обработки;\n",
    "* src2: второе исходное изображение для обработки;\n",
    "* dst: результирующее изображение;\n",
    "* mask: маска, накладываемая на изображение.\n",
    "\n",
    "Для метода threshold() предусмотрены следующие аргументы:\n",
    "* src: объект изображения;\n",
    "* thresh: порог, выше и ниже которого значения пикселей будут изменяться;\n",
    "* maxval: максимальное значение для пикселя;\n",
    "* type: тип применяемой обработки;\n",
    "* dst: результирующий объект изображения."
   ]
  },
  {
   "cell_type": "code",
   "execution_count": 8,
   "metadata": {},
   "outputs": [],
   "source": [
    "image = cv2.imread(pic)\n",
    "logo = cv2.imread(\"../resources/logo.png\", 1)\n",
    "\n",
    "# Создаем ROI\n",
    "rows, cols, channels = logo.shape\n",
    "roi = image[0:rows, 0:cols]\n",
    "\n",
    "# Создаем маску логотипа и его инверсную маску\n",
    "img2gray = cv2.cvtColor(logo, cv2.COLOR_BGR2GRAY)\n",
    "ret, mask = cv2.threshold(img2gray, 10, 255, cv2.THRESH_BINARY)\n",
    "\n",
    "mask_inv = cv2.bitwise_not(mask)\n",
    "\n",
    "# Затемняем область логотипа в ROI\n",
    "img1_bg = cv2.bitwise_and(roi, roi, mask=mask_inv)\n",
    "\n",
    "# Берем только область логотипа из изображения логотипа.\n",
    "img2_fg = cv2.bitwise_and(logo, logo, mask=mask)\n",
    "\n",
    "# Помещаем логотип в ROI и изменяем основное изображение\n",
    "dst = cv2.add(img1_bg, img2_fg)\n",
    "image[0:rows, 0:cols] = dst\n",
    "\n",
    "cv2.imshow('result', image)\n",
    "cv2.imshow('inv', mask_inv)\n",
    "cv2.imshow('bg', img1_bg)\n",
    "cv2.imshow('fg', img2_fg)\n",
    "cv2.imshow('dst', dst)\n",
    "cv2.waitKey(0)\n",
    "cv2.destroyAllWindows()"
   ]
  },
  {
   "cell_type": "markdown",
   "metadata": {},
   "source": [
    "# Смешивание изображений\n",
    "Для смешивания изображений используется метод addWeighted(). Метод идиентичен методу для сложения изображений, но включает в себя параметры весов для смешивания. Аргументы, которые предусмотрены для метода:\n",
    "* src1: первый исходный объект изображения;\n",
    "* alpha: значение веса для альфа-канала;\n",
    "* src2: второй исходный объект изображения;\n",
    "* beta: значение веса для бета-канала;\n",
    "* gamma: значение веса для гамма-канала;\n",
    "* dst: объект выходного изображения;\n",
    "* dtype: тип данных выходного изображения.\n",
    "\n",
    "Пример смешивания изображений реализован ниже."
   ]
  },
  {
   "cell_type": "code",
   "execution_count": 9,
   "metadata": {},
   "outputs": [],
   "source": [
    "img1 = cv2.imread(pic)\n",
    "logo.resize(2160, 3840, 3)\n",
    "# Смешивание изображений с эффектом прозрачности\n",
    "dst = cv2.addWeighted(img1, 0.7, logo, 0.3, 0)\n",
    "\n",
    "cv2.imshow('dst', dst)\n",
    "cv2.waitKey(0)\n",
    "cv2.destroyAllWindows()"
   ]
  }
 ],
 "metadata": {
  "kernelspec": {
   "display_name": "Python 3",
   "language": "python",
   "name": "python3"
  },
  "language_info": {
   "codemirror_mode": {
    "name": "ipython",
    "version": 3
   },
   "file_extension": ".py",
   "mimetype": "text/x-python",
   "name": "python",
   "nbconvert_exporter": "python",
   "pygments_lexer": "ipython3",
   "version": "3.9.13"
  }
 },
 "nbformat": 4,
 "nbformat_minor": 2
}
