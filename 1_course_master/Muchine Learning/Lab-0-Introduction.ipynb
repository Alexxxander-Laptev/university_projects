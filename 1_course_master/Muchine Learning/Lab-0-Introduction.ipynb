{
 "cells": [
  {
   "cell_type": "markdown",
   "metadata": {},
   "source": [
    "# Лабораторная работа №0. Обзор языка Python 3.x.x"
   ]
  },
  {
   "cell_type": "markdown",
   "metadata": {},
   "source": [
    "## 0. Введение"
   ]
  },
  {
   "cell_type": "markdown",
   "metadata": {},
   "source": [
    "Литература, которую вы можете использовать в работе:\n",
    "* Билл Любанович \"Простой Python. Современный стиль программирования\" (одна из лучших книг для начала)\n",
    "* Лучано Рамальо \"Python. К вершинам мастерства\" (очень хорошая книга для желающих освоить язык в совершенстве, детально разобраны все основные механизмы языка, следует читать второй после вводного курса - Любановича или Лутца)\n",
    "* Марк Лутц \"Изучаем Python\" 4-е издание (страшный и толстенный том на 1280 страниц с кучей примеров)\n",
    "* Марк Лутц \"Python. Карманный справочник\" (короткий - 320 c., нужно уже немного представлять принципы работы языка, чтобы им пользоваться)\n",
    "* Уэс Маккинли \"Python и анализ данных\"\n",
    "* Хенрик Бринк, Джозеф Ричардс, Марк Феверолф \"Машинное обучение\" (оригинал называется \"Real-World Machine Learning\" и это лучше отражает суть книги, дан разбор нескольких практически важных кейсов)\n",
    "\n",
    "Доступные онлайн книги и документация:\n",
    "* [Документация Python 3.x.x](https://docs.python.org/3/)\n",
    "* [Стиль оформления кода на Python PEP8](https://pythonworld.ru/osnovy/pep-8-rukovodstvo-po-napisaniyu-koda-na-python.html) (советую ознакомится, важен при промышленном программировании на языке)\n",
    "* [Travis E. Oliphant \"Guide to NumPy\"](http://web.mit.edu/dvp/Public/numpybook.pdf) (исчерпывающий текст про библиотеку NumPy, без которой нам будет никуда не деться в этом курсе)\n",
    "* [\"Sci-Kit Learn\"](http://scikit-learn.org/stable/user_guide.html) (прекрасный ресурс по всем существующим на нынешний момент реализованным методам машинного обучения в экосистеме языка питон, очень много примеров работающего кода)"
   ]
  },
  {
   "cell_type": "markdown",
   "metadata": {},
   "source": [
    "## 1. Язык Python"
   ]
  },
  {
   "cell_type": "markdown",
   "metadata": {},
   "source": [
    "Это высокоуровневый интерпретируемый (хотя есть и проекты компиляторов) язык программирования, предназначенный для решения очень широкого круга задач. В наши цели не будет входить изучение всех его возможностей, хотя вы можете делать множество интересных вещей:\n",
    "+ писать сложные проекты с классами, объектами, наследованием\n",
    "+ создавать веб-приложения (при помощи [Django](https://www.djangoproject.com/) или [Flask](http://flask.pocoo.org/))\n",
    "+ разрабатывать приложения с GUI (например на [PyQT](https://wiki.python.org/moin/PyQt))\n",
    "\n",
    "Нам для решения задач машинного обучения пока понадобится довольно маленькое подмножество языка и несколько библиотек, предназначенных для ввода/вывода данных, их математической обработки и визуализации результатов.\n",
    "\n",
    "Начнем сразу с примера, чтобы понять, что все не так уж и страшно:)"
   ]
  },
  {
   "cell_type": "code",
   "execution_count": 1,
   "metadata": {},
   "outputs": [
    {
     "name": "stdout",
     "output_type": "stream",
     "text": [
      "Функция быстрой сортировки\n",
      "[1, 2, 8, 16, 34, 101, 610]\n"
     ]
    }
   ],
   "source": [
    "# Быстрая сортировка\n",
    "def quicksort(arr):\n",
    "    \"\"\"Функция быстрой сортировки\"\"\"\n",
    "    if len(arr) <= 1:\n",
    "        return arr\n",
    "    pivot = arr[len(arr) // 2] # двойное / означает целочисленное деление\n",
    "    left = [x for x in arr if x < pivot]\n",
    "    middle = [x for x in arr if x == pivot]\n",
    "    right = [x for x in arr if x > pivot]\n",
    "    return quicksort(left) + middle + quicksort(right)\n",
    "\n",
    "print(quicksort.__doc__)\n",
    "print(quicksort([34,16,8,610,1,2,101]))"
   ]
  },
  {
   "cell_type": "markdown",
   "metadata": {},
   "source": [
    "## 2. Типы данных и динамическая типизация"
   ]
  },
  {
   "cell_type": "markdown",
   "metadata": {},
   "source": [
    "### Динамическая типизация"
   ]
  },
  {
   "cell_type": "markdown",
   "metadata": {},
   "source": [
    "Стандартные типы данных языка Python похожи на типы в других языках программирования. Однако переменные в нем не имеют фиксированного типа. Дело в том, что фактически каждая переменная - это ссылка на значение, а не само значение."
   ]
  },
  {
   "cell_type": "code",
   "execution_count": 2,
   "metadata": {},
   "outputs": [
    {
     "name": "stdout",
     "output_type": "stream",
     "text": [
      "Value of x: 16. Type of x: <class 'int'>\n",
      "Value of x: a. Type of x: <class 'str'>\n"
     ]
    }
   ],
   "source": [
    "x = 16\n",
    "print(\"Value of x: {}. Type of x: {}\".format(x, type(x)))\n",
    "\n",
    "x = 'a'\n",
    "print(\"Value of x: {}. Type of x: {}\".format(x, type(x)))"
   ]
  },
  {
   "cell_type": "markdown",
   "metadata": {},
   "source": [
    "### Сравнение объектов на равенство. Id объектов"
   ]
  },
  {
   "cell_type": "markdown",
   "metadata": {},
   "source": [
    "Все в языке Python - это объекты. Сравнивать объекты между собой можно двумя способами:\n",
    "+ на равенство (оператор ==)\n",
    "+ на идентичность (operator *is*)"
   ]
  },
  {
   "cell_type": "code",
   "execution_count": 3,
   "metadata": {},
   "outputs": [
    {
     "name": "stdout",
     "output_type": "stream",
     "text": [
      "Equality:\n",
      "n == n2 = True\n",
      "n == n3 = True\n",
      "Identity:\n",
      "n is n2 = True\n",
      "n is n3 = False\n"
     ]
    }
   ],
   "source": [
    "n = ['abc', 'def'] # Список элементов\n",
    "n2 = n\n",
    "n3 = ['abc', 'def'] # Другой список элементов с тем же содержимым\n",
    "\n",
    "print(\"Equality:\\nn == n2 = {}\\nn == n3 = {}\".format(n == n2, n == n3))\n",
    "print(\"Identity:\\nn is n2 = {}\\nn is n3 = {}\".format(n is n2, n is n3))"
   ]
  },
  {
   "cell_type": "code",
   "execution_count": 4,
   "metadata": {},
   "outputs": [
    {
     "name": "stdout",
     "output_type": "stream",
     "text": [
      "2076724085384\n",
      "2076724085384\n",
      "2076724085896\n"
     ]
    }
   ],
   "source": [
    "print(id(n))\n",
    "print(id(n2))\n",
    "print(id(n3)) # id другой. значит и объект другой"
   ]
  },
  {
   "cell_type": "markdown",
   "metadata": {},
   "source": [
    "Хотя для чисел (и не только;) все не совсем так"
   ]
  },
  {
   "cell_type": "code",
   "execution_count": 5,
   "metadata": {},
   "outputs": [
    {
     "name": "stdout",
     "output_type": "stream",
     "text": [
      "Equality:\n",
      "n == n2 = True\n",
      "n == n3 = True\n",
      "Identity:\n",
      "n is n2 = True\n",
      "n is n3 = True\n"
     ]
    }
   ],
   "source": [
    "n = 100 # Число\n",
    "n2 = n\n",
    "n3 = 100 # Другое такое же число\n",
    "\n",
    "print(\"Equality:\\nn == n2 = {}\\nn == n3 = {}\".format(n == n2, n == n3))\n",
    "print(\"Identity:\\nn is n2 = {}\\nn is n3 = {}\".format(n is n2, n is n3))"
   ]
  },
  {
   "cell_type": "code",
   "execution_count": 6,
   "metadata": {},
   "outputs": [
    {
     "name": "stdout",
     "output_type": "stream",
     "text": [
      "1998875936\n",
      "1998875936\n",
      "1998875936\n"
     ]
    }
   ],
   "source": [
    "print(id(n))\n",
    "print(id(n2))\n",
    "print(id(n3)) # id такой же. новый объект не создан"
   ]
  },
  {
   "cell_type": "markdown",
   "metadata": {},
   "source": [
    "### Встроенные типы данных. Числа"
   ]
  },
  {
   "cell_type": "code",
   "execution_count": 7,
   "metadata": {},
   "outputs": [
    {
     "name": "stdout",
     "output_type": "stream",
     "text": [
      "Value of x: 10. Type of x: <class 'int'>\n",
      "11\n",
      "9\n",
      "20\n",
      "3\n",
      "100000\n",
      "11\n",
      "22\n",
      "Res = 2.5\n"
     ]
    }
   ],
   "source": [
    "x = 10\n",
    "print(\"Value of x: {}. Type of x: {}\".format(x, type(x)))\n",
    "print(x + 1)\n",
    "print(x - 1)\n",
    "print(x * 2)\n",
    "print(x // 3)\n",
    "print(x ** 5)\n",
    "x += 1\n",
    "print(x)\n",
    "x *= 2\n",
    "print(x)\n",
    "y = 2.5\n",
    "print(\"Res = \" + str(y)) # чтобы сложить со строчкой нужно y привести к строчке"
   ]
  },
  {
   "cell_type": "markdown",
   "metadata": {},
   "source": [
    "### Встроенные типы данных. Булев тип"
   ]
  },
  {
   "cell_type": "code",
   "execution_count": 8,
   "metadata": {},
   "outputs": [
    {
     "name": "stdout",
     "output_type": "stream",
     "text": [
      "Value of t: True.\n",
      "Type of t: <class 'bool'>\n",
      "False\n",
      "True\n",
      "False\n",
      "True\n"
     ]
    }
   ],
   "source": [
    "t = True\n",
    "f = False\n",
    "print(\"Value of t: {}.\\nType of t: {}\".format(t, type(t)))\n",
    "print (t and f)\n",
    "print (t or f)\n",
    "print (not t)\n",
    "print (t != f)"
   ]
  },
  {
   "cell_type": "markdown",
   "metadata": {},
   "source": [
    "### Встроенные типы данных. Строки"
   ]
  },
  {
   "cell_type": "code",
   "execution_count": 9,
   "metadata": {},
   "outputs": [
    {
     "name": "stdout",
     "output_type": "stream",
     "text": [
      "Строка hello длины 5\n",
      "hello wor\"l\"d\n",
      "hello, wor\"l\"d\n",
      "hello, wor\"l\"d\n",
      "wor\"l\"d, hello\n"
     ]
    }
   ],
   "source": [
    "hello = 'hello'\n",
    "world = 'wor\"l\"d' # тоже можно и ничем не отличается:) \n",
    "print('Строка %s длины %d' % (hello, len(hello)))\n",
    "hw = hello + ' ' + world\n",
    "print(hw)\n",
    "\n",
    "print('{}, {}'.format(hello, world))\n",
    "print('{0}, {1}'.format(hello, world))\n",
    "print('{1}, {0}'.format(hello, world))"
   ]
  },
  {
   "cell_type": "code",
   "execution_count": 10,
   "metadata": {},
   "outputs": [
    {
     "name": "stdout",
     "output_type": "stream",
     "text": [
      "Hello\n",
      "HELLO\n",
      "  hello\n",
      " hello \n",
      "heellello\n",
      "GJHG GJG  world\n"
     ]
    }
   ],
   "source": [
    "s = \"hello\"\n",
    "print(s.capitalize())\n",
    "print(s.upper())\n",
    "print(s.rjust(7))\n",
    "print(s.center(7))\n",
    "print(s.replace('l', 'ell'))\n",
    "print('GJHG GJG  world '.strip())"
   ]
  },
  {
   "cell_type": "markdown",
   "metadata": {},
   "source": [
    "### Контейнерные типы. Списки"
   ]
  },
  {
   "cell_type": "code",
   "execution_count": 11,
   "metadata": {},
   "outputs": [
    {
     "name": "stdout",
     "output_type": "stream",
     "text": [
      "Empty list: []\n",
      "5\n",
      "[3, 1, 92, 'abc', [1, 2, 3]] 92\n",
      "[1, 2, 3] 92\n",
      "[3, 1, 'foo', 'abc', [1, 2, 3]]\n",
      "[3, 1, 'foo', 'abc', [1, 2, 3], 'bar']\n",
      "bar [3, 1, 'foo', 'abc', [1, 2, 3]]\n"
     ]
    }
   ],
   "source": [
    "empty_list = []\n",
    "print('Empty list: {}'.format(empty_list))\n",
    "xs = [3, 1, 92, \"abc\", [1, 2, 3]] # Создать список\n",
    "print(len(xs))\n",
    "print(xs, xs[2])      # Индексы - с 0\n",
    "print(xs[-1], xs[-3]) # Отрицательные работают с концом списка - по сути xs[-1] === xs[len(s) - 1]\n",
    "xs[2] = 'foo'    # можно разные типы\n",
    "print(xs)\n",
    "xs.append('bar')\n",
    "print(xs)\n",
    "x = xs.pop()\n",
    "print(x, xs)"
   ]
  },
  {
   "cell_type": "code",
   "execution_count": 12,
   "metadata": {},
   "outputs": [
    {
     "name": "stdout",
     "output_type": "stream",
     "text": [
      "[0, 2, 4, 6, 8, 10, 12, 14]\n",
      "[4, 6]\n",
      "[4, 6, 8, 10, 12, 14]\n",
      "[0, 2]\n",
      "[0, 2, 4, 6, 8, 10, 12, 14]\n",
      "[0, 2, 4, 6, 8, 10, 12]\n",
      "[0, 2, 8, 9, 10, 34, 8, 10, 12, 14]\n"
     ]
    }
   ],
   "source": [
    "# Работа с нарезками (slicing)\n",
    "# range - встроенная функция, создает генератор элементов\n",
    "# list - конструктор типа list. берет в качестве аргумента любой тип, который может отдавать последовательность элементов\n",
    "nums = list(range(0,15,2))  \n",
    "print(nums)\n",
    "print(nums[2:4])\n",
    "print(nums[2:])\n",
    "print(nums[:2])\n",
    "print(nums[:])\n",
    "print(nums[:-1])\n",
    "nums[2:4] = [8, 9, 10, 34]\n",
    "print(nums)"
   ]
  },
  {
   "cell_type": "code",
   "execution_count": 13,
   "metadata": {},
   "outputs": [
    {
     "name": "stdout",
     "output_type": "stream",
     "text": [
      "cat\n",
      "dog\n",
      "monkey\n",
      "vasya\n",
      "\n",
      "List of animals\n",
      "#1: cat\n",
      "#2: dog\n",
      "#3: monkey\n",
      "#4: vasya\n"
     ]
    }
   ],
   "source": [
    "# Цикл по элементам в (in) списке\n",
    "animals = ['cat', 'dog', 'monkey', 'vasya']\n",
    "for animal in animals:\n",
    "    print(animal)\n",
    "\n",
    "# Можно так, с индексами элементов\n",
    "print('\\nList of animals')\n",
    "for idx, animal in enumerate(animals):\n",
    "    print('#%d: %s' % (idx + 1, animal))"
   ]
  },
  {
   "cell_type": "code",
   "execution_count": 14,
   "metadata": {},
   "outputs": [
    {
     "name": "stdout",
     "output_type": "stream",
     "text": [
      "[1, 4, 9, 16, 25, 36, 49, 64, 81, 100, 121, 144, 169, 196, 225]\n",
      "[1, 4, 9, 16, 25, 36, 49, 64, 81, 100, 121, 144, 169, 196, 225]\n",
      "[4, 16, 36, 64, 100, 144, 196]\n"
     ]
    }
   ],
   "source": [
    "# Два способа сделать одно и то же:\n",
    "\n",
    "# Первый - с помощью цикла\n",
    "nums = range(1,16)\n",
    "squares = []\n",
    "for x in nums:\n",
    "    squares.append(x ** 2)\n",
    "print (squares)\n",
    "\n",
    "# Второй - с помощью генератор списков - list comprehensions\n",
    "squares2 = [x ** 2 for x in nums]\n",
    "print (squares2)\n",
    "\n",
    "# Можно добавить условие\n",
    "even_squares = [x ** 2 for x in nums if x % 2 == 0]\n",
    "print (even_squares)"
   ]
  },
  {
   "cell_type": "markdown",
   "metadata": {},
   "source": [
    "### Контейерные типы. Словари"
   ]
  },
  {
   "cell_type": "code",
   "execution_count": 15,
   "metadata": {},
   "outputs": [
    {
     "name": "stdout",
     "output_type": "stream",
     "text": [
      "{'dog': 'furry', 'cat': 'cute'}\n",
      "cute\n",
      "True\n",
      "{'dog': 'furry', 'cat': 'cute', 'fish': 'wet'}\n",
      "N/A\n",
      "wet\n",
      "N/A\n"
     ]
    }
   ],
   "source": [
    "d = {'dog': 'furry', 'cat': 'cute'}\n",
    "print(d)\n",
    "print(d['cat'])\n",
    "print('cat' in d)\n",
    "d['fish'] = 'wet'\n",
    "print(d)\n",
    "print(d.get('monkey', 'N/A'))\n",
    "print(d.get('fish', 'N/A'))\n",
    "del d['fish']\n",
    "print(d.get('fish', 'N/A'))"
   ]
  },
  {
   "cell_type": "code",
   "execution_count": 16,
   "metadata": {},
   "outputs": [
    {
     "name": "stdout",
     "output_type": "stream",
     "text": [
      "A person has 2 legs\n",
      "A cat has 4 legs\n",
      "A spider has 8 legs\n",
      "\n",
      "Another list:\n",
      "A person has 2 legs\n",
      "A cat has 4 legs\n",
      "A spider has 8 legs\n"
     ]
    }
   ],
   "source": [
    "d = {'person': 2, 'cat': 4, 'spider': 8}\n",
    "for animal in d:\n",
    "    legs = d[animal]\n",
    "    print('A %s has %d legs' % (animal, legs))\n",
    "    \n",
    "# Или так\n",
    "print('\\nAnother list:')\n",
    "d = {'person': 2, 'cat': 4, 'spider': 8}\n",
    "for animal, legs in d.items():\n",
    "    print('A %s has %d legs' % (animal, legs))"
   ]
  },
  {
   "cell_type": "code",
   "execution_count": 17,
   "metadata": {},
   "outputs": [
    {
     "name": "stdout",
     "output_type": "stream",
     "text": [
      "{0: 0, 2: 4, 4: 16}\n"
     ]
    }
   ],
   "source": [
    "nums = [0, 1, 2, 3, 4]\n",
    "even_num_to_square = {x: x ** 2 for x in nums if x % 2 == 0}\n",
    "print(even_num_to_square)"
   ]
  },
  {
   "cell_type": "markdown",
   "metadata": {},
   "source": [
    "### Контейерные типы. Множества"
   ]
  },
  {
   "cell_type": "code",
   "execution_count": 18,
   "metadata": {},
   "outputs": [
    {
     "name": "stdout",
     "output_type": "stream",
     "text": [
      "{'cat', 'dog', 'mouse'}\n",
      "<class 'set'>\n",
      "True\n",
      "False\n",
      "True\n",
      "{'cat', 'dog', 'fish', 'mouse'}\n",
      "4\n",
      "{'cat', 'dog', 'fish', 'mouse'}\n",
      "4\n",
      "{'dog', 'fish', 'mouse'}\n",
      "3\n"
     ]
    }
   ],
   "source": [
    "animals = {'cat', 'dog', 'mouse'}\n",
    "print(animals)\n",
    "print(type(animals))\n",
    "print ('cat' in animals)\n",
    "print ('fish' in animals)\n",
    "animals.add('fish')\n",
    "print ('fish' in animals)\n",
    "print(animals)\n",
    "print (len(animals))\n",
    "animals.add('cat')\n",
    "print(animals)\n",
    "print (len(animals))\n",
    "animals.remove('cat')\n",
    "print(animals)\n",
    "print (len(animals))"
   ]
  },
  {
   "cell_type": "code",
   "execution_count": 19,
   "metadata": {},
   "outputs": [
    {
     "name": "stdout",
     "output_type": "stream",
     "text": [
      "#cat\n",
      "#dog\n",
      "#fish\n"
     ]
    }
   ],
   "source": [
    "animals = {'cat', 'dog', 'fish'}\n",
    "for animal in animals:\n",
    "    print('#%s' % (animal))"
   ]
  },
  {
   "cell_type": "code",
   "execution_count": 20,
   "metadata": {},
   "outputs": [
    {
     "name": "stdout",
     "output_type": "stream",
     "text": [
      "{0, 1, 2, 3, 4, 5}\n",
      "sqrt(x)\n",
      "\n",
      "Return the square root of x.\n"
     ]
    }
   ],
   "source": [
    "from math import sqrt # Нам понадобилась функция sqrt из библиотеки math\n",
    "\n",
    "nums = {int(sqrt(x)) for x in range(30)}\n",
    "print(nums)  # Prints \"set([0, 1, 2, 3, 4, 5])\"\n",
    "\n",
    "print(sqrt.__doc__)"
   ]
  },
  {
   "cell_type": "markdown",
   "metadata": {},
   "source": [
    "### Контейерные типы. Кортежи"
   ]
  },
  {
   "cell_type": "markdown",
   "metadata": {},
   "source": [
    "Кортежи - это неизменяемые упорядоченные списки разнотипных значений. Их можно использовать как ключи в словарях и как элементы множеств. А вот обычные с обычными списками так делать нельзя.\n",
    "\n",
    "Связано это с тем, что кортежи - не изменяемый тип данных"
   ]
  },
  {
   "cell_type": "code",
   "execution_count": 21,
   "metadata": {},
   "outputs": [
    {
     "name": "stdout",
     "output_type": "stream",
     "text": [
      "<class 'tuple'>\n",
      "{(0, 1): 0, (1, 2): 1, (2, 3): 2, (3, 4): 3, (4, 5): 4}\n",
      "1\n"
     ]
    }
   ],
   "source": [
    "d = {(x, x + 1): x for x in range(5)}\n",
    "t = (5, 6)\n",
    "print(type(t))\n",
    "print(d)\n",
    "print(d[(1, 2)])"
   ]
  },
  {
   "cell_type": "markdown",
   "metadata": {},
   "source": [
    "### Функции"
   ]
  },
  {
   "cell_type": "code",
   "execution_count": 22,
   "metadata": {},
   "outputs": [
    {
     "name": "stdout",
     "output_type": "stream",
     "text": [
      "None\n"
     ]
    }
   ],
   "source": [
    "# Пустая функция\n",
    "def foo():\n",
    "    pass\n",
    "\n",
    "print(foo())"
   ]
  },
  {
   "cell_type": "code",
   "execution_count": 23,
   "metadata": {},
   "outputs": [
    {
     "name": "stdout",
     "output_type": "stream",
     "text": [
      "Hello, Billy!\n",
      "HELLO, BOB!!!\n",
      "HELLO, FRED!!!\n"
     ]
    }
   ],
   "source": [
    "def hello(name, loud=False):\n",
    "    \"\"\"Comment for function\"\"\"\n",
    "    if loud:\n",
    "        print ('HELLO, %s!!!' % name.upper())\n",
    "    else:\n",
    "        print ('Hello, %s!' % name)\n",
    "\n",
    "hello('Billy')\n",
    "hello(loud = True, name = 'Bob')\n",
    "hello('Fred', loud=True)"
   ]
  },
  {
   "cell_type": "code",
   "execution_count": 24,
   "metadata": {},
   "outputs": [
    {
     "name": "stdout",
     "output_type": "stream",
     "text": [
      "x = 10\n",
      "Tuple of arguments without names: ('a', 13, [1, 2, 3])\n",
      "Map of named arguments: {'alpha': 1.0, 'beta': 1000000.0}\n"
     ]
    }
   ],
   "source": [
    "# аргументов может быть сколько угодно\n",
    "\n",
    "def print_arguments(x, *args, **named_args):\n",
    "    print('x = {}'.format(x))\n",
    "    print('Tuple of arguments without names: {}'. format(args))\n",
    "    print('Map of named arguments: {}'.format(named_args))\n",
    "    \n",
    "print_arguments(10, 'a', 13, [1,2,3], alpha=1.0, beta=1e6)"
   ]
  },
  {
   "cell_type": "markdown",
   "metadata": {},
   "source": [
    "### Базовый ввод-вывод. Работа с файлами"
   ]
  },
  {
   "cell_type": "code",
   "execution_count": 25,
   "metadata": {},
   "outputs": [
    {
     "name": "stdout",
     "output_type": "stream",
     "text": [
      "<class '_io.TextIOWrapper'>\n",
      "z = ['ABCDEFGHIJKLMNOPQRSTUVWXYZ0123456789']\n"
     ]
    }
   ],
   "source": [
    "x = \"ABCDEFGHIJKLMNOPQRSTUVWXYZ\"\n",
    "y = \"0123456789\"\n",
    "\n",
    "# Можно как в Си\n",
    "\n",
    "f = open('data.txt', 'w')\n",
    "print(type(f))\n",
    "f.writelines(x)\n",
    "f.writelines(y)\n",
    "f.close()\n",
    "\n",
    "f = open('data.txt', 'r')\n",
    "z = f.readlines()\n",
    "f.close()\n",
    "\n",
    "print('z =', z)"
   ]
  },
  {
   "cell_type": "code",
   "execution_count": 26,
   "metadata": {},
   "outputs": [
    {
     "name": "stdout",
     "output_type": "stream",
     "text": [
      "z = ['ABCDEFGHIJKLMNOPQRSTUVWXYZ0123456789']\n"
     ]
    }
   ],
   "source": [
    "# но лучше безопасно c менеджером контекста (не надо следить за закрытием)\n",
    "\n",
    "with open('data1.txt', 'w') as f:\n",
    "    f.writelines(x)\n",
    "    f.writelines(y)\n",
    "\n",
    "with open('data.txt', 'r') as f:\n",
    "    z = f.readlines()\n",
    "\n",
    "print('z =', z)"
   ]
  },
  {
   "cell_type": "markdown",
   "metadata": {},
   "source": [
    "### Классы"
   ]
  },
  {
   "cell_type": "code",
   "execution_count": 27,
   "metadata": {},
   "outputs": [
    {
     "name": "stdout",
     "output_type": "stream",
     "text": [
      "Hello, Fred\n",
      "HELLO, FRED!\n",
      "<class '__main__.Greeter'>\n"
     ]
    }
   ],
   "source": [
    "class Greeter(object):\n",
    "\n",
    "    # Конструктор\n",
    "    def __init__(self, name):\n",
    "        self.name = name  # Создание переменной объекта\n",
    "\n",
    "    # Метод класса\n",
    "    def greet(self, loud=False):\n",
    "        if loud:\n",
    "            print ('HELLO, %s!' % self.name.upper())\n",
    "        else:\n",
    "            print ('Hello, %s' % self.name)\n",
    "\n",
    "g = Greeter('Fred')  # Создать объект класса\n",
    "g.greet()            # Вызвать метод класса\n",
    "g.greet(loud=True)\n",
    "print(type(g))"
   ]
  }
 ],
 "metadata": {
  "kernelspec": {
   "display_name": "Python 3",
   "language": "python",
   "name": "python3"
  },
  "language_info": {
   "codemirror_mode": {
    "name": "ipython",
    "version": 3
   },
   "file_extension": ".py",
   "mimetype": "text/x-python",
   "name": "python",
   "nbconvert_exporter": "python",
   "pygments_lexer": "ipython3",
   "version": "3.7.9"
  }
 },
 "nbformat": 4,
 "nbformat_minor": 1
}
